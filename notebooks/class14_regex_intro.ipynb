{
  "cells": [
    {
      "cell_type": "markdown",
      "metadata": {
        "id": "YhZ2Kg2aEL7m"
      },
      "source": [
        "\n",
        "## Introduction to Regular Expressions\n",
        "\n",
        "Thus far, we’ve been learning how to generate text using LLMs, and to classify text that we've gotten from elsewhere. But very often, the text that we've gotten from elsewhere isn’t quite ready to be analyzed--or the text that is generated needs a bit more processing in order to be analyzed.\n",
        "\n",
        "Today we'll cover the first of these challenges: cleaning our data so that it can be analyzed. We’ll learn how to do this with regular expressions, or \"regex.\"\n",
        "\n",
        "What are regular expressions?\n",
        "\n",
        "Doug Knox puts it this way: \"Regular expressions (or “regexes” for short) are a way of defining patterns that can apply to sequences of things. They have the funny name that they do because of their origins in computer science and formal language theory, and they are incorporated into most general programming languages.\""
      ]
    },
    {
      "cell_type": "markdown",
      "metadata": {
        "id": "nDtsuUoIEL7r"
      },
      "source": [
        "In short: regex offers a (relatively) standard method for finding and/or replacing patterns in text.\n",
        "\n",
        "Depending on your experience, you may have already encountered regex in R via functions like `grep` and packages like `stringr`.\n",
        "\n",
        "If not (or even if so), it may be helpful to have some of the basic regex syntax explained again."
      ]
    },
    {
      "cell_type": "markdown",
      "metadata": {
        "id": "n66h8jA-EL7s"
      },
      "source": [
        "### Basic regex syntax\n",
        "\n",
        "To begin, we need to import the Python module for regular expressions:"
      ]
    },
    {
      "cell_type": "code",
      "execution_count": null,
      "metadata": {
        "id": "BjAjPfGIEL7u"
      },
      "outputs": [],
      "source": [
        "import re # this is the python regular expression library"
      ]
    },
    {
      "cell_type": "markdown",
      "metadata": {
        "id": "ankN5-t8EL7v"
      },
      "source": [
        "Now. Let's say we have this sample text:\n",
        "\n",
        "`Let's eat a delicious FRUIT $alad. N0M n0m!`\n",
        "\n",
        "If we want, we can isolate all the capital letters with regex.\n",
        "\n",
        "`[A-Z]` tells regex we're looking for capital letters."
      ]
    },
    {
      "cell_type": "markdown",
      "metadata": {
        "id": "6OOU7iaHEL7x"
      },
      "source": [
        "A construction like '`[A-Z]`' makes use of a few basic features of regex:\n",
        "\n",
        "* Square brackets indicate a set of possible things to match. (The things go inside.)\n",
        "* A-Z is how you indicate a range of characters to match.\n",
        "* Regex is case sensitive, so A-Z would match only uppercase letters. To match lowercase chars, you'd use '`[a-z]`'."
      ]
    },
    {
      "cell_type": "markdown",
      "metadata": {
        "id": "4925KL72EL7x"
      },
      "source": [
        "`findall(pattern, text)` finds all matches of the pattern in the text"
      ]
    },
    {
      "cell_type": "code",
      "execution_count": null,
      "metadata": {
        "id": "65624oHMEL7y"
      },
      "outputs": [],
      "source": [
        "txt = \"Let's eat a delicious FRUIT $alad. N0M n0m!\"\n",
        "re.findall('[A-Z]', txt)"
      ]
    },
    {
      "cell_type": "markdown",
      "metadata": {
        "id": "VVNgmfK7EL7z"
      },
      "source": [
        "### Historical aside\n",
        "\n",
        "Ever wonder why we call capital letters uppercase and lowercase letters lowercase? This is why:\n",
        "\n",
        "![cases](https://blogger.googleusercontent.com/img/b/R29vZ2xl/AVvXsEioX-YWjQWgnw7Tsm-rThARBuU8uxLpPi1jU8Am7TwPE6-C0Mx1oo7KspC7yZRftpv4UnUr0yQKH0JuVSVkjWd19tSZcuSQ0h8qqMTQ4yjQ9_4q0VrsNaaXCy69l2tohvyKluPmp2xZENsV/s1600/upper-and-lower-case-2.png)"
      ]
    },
    {
      "cell_type": "markdown",
      "metadata": {
        "id": "AXSoOoUdEL7z"
      },
      "source": [
        "### More regex with Python"
      ]
    },
    {
      "cell_type": "markdown",
      "metadata": {
        "id": "kVP_R6aOEL71"
      },
      "source": [
        "Let's review a few more basic ways of formulating regex patterns:\n",
        "\n",
        "`^` outside the brackets but before the pattern finds only the first match, e.g.:"
      ]
    },
    {
      "cell_type": "code",
      "execution_count": null,
      "metadata": {
        "id": "HbogwGIFEL73"
      },
      "outputs": [],
      "source": [
        "ans = re.findall(\"^[A-Z]\", txt)\n",
        "ans"
      ]
    },
    {
      "cell_type": "markdown",
      "metadata": {
        "id": "G9YGZEs0EL73"
      },
      "source": [
        "`^` *inside* the brackets but before the start of the pattern negates the pattern."
      ]
    },
    {
      "cell_type": "code",
      "execution_count": null,
      "metadata": {
        "id": "jW2Ra0vWEL74"
      },
      "outputs": [],
      "source": [
        "ans = re.findall(\"[^A-Z]\", txt)\n",
        "ans"
      ]
    },
    {
      "cell_type": "markdown",
      "metadata": {
        "id": "32s6NlCYEL75"
      },
      "source": [
        "Those two different usages of the ^ are why some people delight in mastery of regex and others abhor it. It is TOTALLY FINE to have to look up a regex cheat sheet like [this one](http://www.pyregex.com/) if you can't remember the syntax off the top of your head. I almost always do."
      ]
    },
    {
      "cell_type": "markdown",
      "metadata": {
        "id": "_-hs1rTqEL75"
      },
      "source": [
        "The [cheat sheet](http://www.pyregex.com/) also contains a web-based tester, which is another incredibly helpful tool. There are many such testers on the internet. I recommend that you use them.\n",
        "\n",
        "Okay, back to basic regex."
      ]
    },
    {
      "cell_type": "markdown",
      "metadata": {
        "id": "lybXPxLwEL7-"
      },
      "source": [
        "A number inside curly braces indicates that you want instances where there are that number of matches, uninterrupted, in a row. In our case (`Let's eat a delicious FRUIT $alad. N0M n0m!`) what should `re.findall(\"[A-Z]{5}\", txt)` find?"
      ]
    },
    {
      "cell_type": "code",
      "execution_count": null,
      "metadata": {
        "id": "Y67e4oUyEL7_"
      },
      "outputs": [],
      "source": [
        "ans = re.findall(\"[A-Z]{5}\", txt)\n",
        "\n",
        "ans"
      ]
    },
    {
      "cell_type": "markdown",
      "metadata": {
        "id": "LTvXmFbKEL7_"
      },
      "source": [
        "There are all sorts of special sequences that let you look for specific types of characters. For example, \\W is how you indicate any non-alphanumeric character--that is, any character that's not in the alphabet and is not a number--as in the following:"
      ]
    },
    {
      "cell_type": "code",
      "execution_count": null,
      "metadata": {
        "id": "_sUj03NyEL8B"
      },
      "outputs": [],
      "source": [
        "ans = re.findall(\"[\\W]\", txt)\n",
        "\n",
        "ans"
      ]
    },
    {
      "cell_type": "markdown",
      "metadata": {
        "id": "ao4mBqkaEL8B"
      },
      "source": [
        "If you are looking for multiple types of things, you can run them together inside the square brackets. For example, you could find both non-alphanumeric (`\\W`) and all numbers (`0-9`) in this way:"
      ]
    },
    {
      "cell_type": "code",
      "execution_count": null,
      "metadata": {
        "id": "JJkiqNDrEL8B"
      },
      "outputs": [],
      "source": [
        "ans = re.findall(\"[\\W0-9]\", txt)\n",
        "\n",
        "ans"
      ]
    },
    {
      "cell_type": "markdown",
      "metadata": {
        "id": "a8M7KBKtEL8C"
      },
      "source": [
        "Regex can seem intimidating. But with some practice, you will start to remember some of the most commonly used syntax and expressions. That said, you will need to consult a cheat sheet more often than not.\n",
        "\n",
        "Here are some but not all of the most common regex parts:\n",
        "\n",
        "| Syntax  | Description |\n",
        "| :------ | :---------- |\n",
        "| `A b 1` | literals - letters, digits, and spaces match themselves |\n",
        "| `[Ab1]` | a character class, matching any of `A`, `b`, or `1` in this case |\n",
        "| `[a-z]` | all lowercase letters within a range |\n",
        "| `[0-9]` | all digits |\n",
        "| `^` | beginning of string |\n",
        "| `$` | end of string |\n",
        "| `.` | any character |\n",
        "| `*` | zero or more |\n",
        "| `+` | one or more |\n",
        "| `()` | creates a capture group for future reference |\n",
        "| `\\s` | whitespace (there are many special sequences that begin with `\\` like this) |\n",
        "\n",
        "We will practice with these and a few more as we work through the rest of this notebook."
      ]
    },
    {
      "cell_type": "markdown",
      "metadata": {
        "id": "chG_AwK3EL8C"
      },
      "source": [
        "### Python's regex functions\n",
        "\n",
        "There are a few helpful functions included in Python's \"re\" library. We've already used `findall`, but here are a few more:"
      ]
    },
    {
      "cell_type": "markdown",
      "metadata": {
        "id": "_gTy1gXGEL8C"
      },
      "source": [
        "`match` finds a pattern anchored at the beginning of a string. Because it only looks at the beginning of a string, it's not always exceptionally useful. But let's just see how it works."
      ]
    },
    {
      "cell_type": "code",
      "execution_count": null,
      "metadata": {
        "id": "jd5NHamJEL8C"
      },
      "outputs": [],
      "source": [
        "print(\"Let's recall our example string:\")\n",
        "print(txt + \"\\n\")\n",
        "\n",
        "pattern = \"[A-Z]{5}\" # let's look for five uppercase letters, as above\n",
        "\n",
        "print(\"Looking for five uppercase letters at the start...\")\n",
        "if re.match(pattern,txt):\n",
        "    print(\"Match!\")\n",
        "else:\n",
        "    print(\"Sorry. No match.\")"
      ]
    },
    {
      "cell_type": "markdown",
      "metadata": {
        "id": "Rw7o74vcEL8D"
      },
      "source": [
        "So, we don't have a match here because \"F\" \"R\" \"U\" \"I\" and \"T\" are not the first five chars in the sring. \"L\" \"e\" are the first two characters, and as soon as `match` gets to the \"e\" it knows its search has failed: Sorry. No match.\n",
        "\n",
        "But what about if we look for \"Let's\"?"
      ]
    },
    {
      "cell_type": "markdown",
      "metadata": {
        "id": "Z0nfzW_eEL8E"
      },
      "source": [
        "### Cue **Exercise 1**!\n",
        "\n",
        "Here are some regex building blocks to use in this exercise:\n",
        "\n",
        "* `[A-Z]` will get you all uppercase letters\n",
        "* `[a-z]` will get you all lowercase letters\n",
        "* In order to match a `'`, you need to use a `\\` before it. This is called an escape sequence.\n",
        "* Adding a `+` after a set of characters will match one or more instances of that set"
      ]
    },
    {
      "cell_type": "code",
      "execution_count": null,
      "metadata": {
        "id": "pkE5q9xtEL8E"
      },
      "outputs": [],
      "source": [
        "# So, match doesn't work above. But what about if we search for \"Let's\"?\n",
        "\n",
        "pattern = \" \" # fill in this part\n",
        "\n",
        "if re.match(pattern,txt):\n",
        "    print(\"Match!\")\n",
        "else:\n",
        "    print(\"Sorry. No match.\")"
      ]
    },
    {
      "cell_type": "markdown",
      "metadata": {
        "id": "rfDxqlMLEL8E"
      },
      "source": [
        "Another thing to know about `match` is that it returns information about its search. You can test for the fact of a match. To return the matching characters, you can specify with the number match you want, starting with the first as: `[0]`. For example:"
      ]
    },
    {
      "cell_type": "code",
      "execution_count": null,
      "metadata": {
        "id": "JIrIMypdEL8E"
      },
      "outputs": [],
      "source": [
        "pattern = \" \" # fill in same as above\n",
        "\n",
        "matches = re.match(pattern,txt)\n",
        "\n",
        "print(matches)\n",
        "print(matches[0])"
      ]
    },
    {
      "cell_type": "markdown",
      "metadata": {
        "id": "8jDAcdKfEL8E"
      },
      "source": [
        "More helpful than `match` is `search`, which searches the entire string.\n",
        "\n",
        "Let's go back to looking for FRUIT:"
      ]
    },
    {
      "cell_type": "code",
      "execution_count": null,
      "metadata": {
        "id": "dZn0uv_HEL8E"
      },
      "outputs": [],
      "source": [
        "pattern = \"[A-Z]{5}\" # remember this?\n",
        "\n",
        "matches = re.search(pattern,txt)\n",
        "\n",
        "matches[0]"
      ]
    },
    {
      "cell_type": "markdown",
      "metadata": {
        "id": "0p_f4y7VEL8F"
      },
      "source": [
        "The TL;dr version: use `search` and not `match` unless you have a real reason to look only at the start of a string."
      ]
    },
    {
      "cell_type": "markdown",
      "metadata": {
        "id": "0DTEGkkvEL8F"
      },
      "source": [
        "There's just one more function to go over before we turn to our song lyrics exercise. And it's a helpful one. Promise!"
      ]
    },
    {
      "cell_type": "markdown",
      "metadata": {
        "id": "Caebj5fGEL8F"
      },
      "source": [
        "`re.sub` substitutes one pattern with another. This is exceptionally helpful for cleaning text.\n",
        "\n",
        "The syntax is as follows:\n",
        "\n",
        "`newstring = re.sub(pattern, replacement_string, original_string)`\n",
        "\n",
        "For example:\n"
      ]
    },
    {
      "cell_type": "code",
      "execution_count": null,
      "metadata": {
        "id": "NHP3siItEL8F"
      },
      "outputs": [],
      "source": [
        "print(\"Original string:\")\n",
        "print(txt + \"\\n\")"
      ]
    },
    {
      "cell_type": "markdown",
      "metadata": {
        "id": "pbCTKZQJEL8F"
      },
      "source": [
        "Let's swap out `$alad` for `smoothie`. To find `$alad` we need the regex pattern `\"\\$[a-z]{4}\"`"
      ]
    },
    {
      "cell_type": "code",
      "execution_count": null,
      "metadata": {
        "id": "vECWMZhZEL8G"
      },
      "outputs": [],
      "source": [
        "new_txt = re.sub(\"\\$[a-z]{4}\",\"smoothie\",txt)\n",
        "\n",
        "print(\"New string:\")\n",
        "print(new_txt)"
      ]
    },
    {
      "cell_type": "markdown",
      "metadata": {
        "id": "QRRrw_hjEL8G"
      },
      "source": [
        "Enough of this. Let's look at our song lyrics..."
      ]
    },
    {
      "cell_type": "markdown",
      "source": [
        "*Lauren F. Klein wrote version 1.0 of this notebook, based off tutorials by [Doug Knox](https://programminghistorian.org/en/lessons/understanding-regular-expressions), [Laura Turner O'Hara](https://programminghistorian.org/en/lessons/cleaning-ocrd-text-with-regular-expressions#regular-expressions-regex), [William J. Turkel and Adam Crymble](https://programminghistorian.org/en/lessons/normalizing-data#python-regular-expressions), and [Sejal Jaiswal](https://www.datacamp.com/community/tutorials/python-regular-expression-tutorial).*\n",
        "\n"
      ],
      "metadata": {
        "id": "0nxLsV7jEusb"
      }
    },
    {
      "cell_type": "code",
      "source": [],
      "metadata": {
        "id": "tO4u7xXOEvCH"
      },
      "execution_count": null,
      "outputs": []
    }
  ],
  "metadata": {
    "kernelspec": {
      "display_name": "Python 3",
      "language": "python",
      "name": "python3"
    },
    "language_info": {
      "codemirror_mode": {
        "name": "ipython",
        "version": 3
      },
      "file_extension": ".py",
      "mimetype": "text/x-python",
      "name": "python",
      "nbconvert_exporter": "python",
      "pygments_lexer": "ipython3",
      "version": "3.7.2"
    },
    "colab": {
      "provenance": []
    }
  },
  "nbformat": 4,
  "nbformat_minor": 0
}